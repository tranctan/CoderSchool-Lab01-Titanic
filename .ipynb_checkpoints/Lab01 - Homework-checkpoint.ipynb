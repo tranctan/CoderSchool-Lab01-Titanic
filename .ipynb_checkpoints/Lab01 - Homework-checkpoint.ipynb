{
 "cells": [
  {
   "cell_type": "markdown",
   "metadata": {},
   "source": [
    "# Hands-on Titanic Dataset\n",
    "\n",
    "Predict who survived or died. \n",
    "\n",
    "**Rules**: Not allowed to use features: PClass, Sex, Age"
   ]
  },
  {
   "cell_type": "markdown",
   "metadata": {},
   "source": [
    "### Importing Libraries"
   ]
  },
  {
   "cell_type": "code",
   "execution_count": 1,
   "metadata": {},
   "outputs": [],
   "source": [
    "import numpy as np \n",
    "import pandas as pd \n",
    "import matplotlib.pyplot as plt \n",
    "import seaborn as sns \n",
    "%matplotlib inline\n",
    "\n",
    "\n",
    "from sklearn.model_selection import train_test_split \n",
    "from sklearn.model_selection import GridSearchCV\n",
    "from sklearn.tree import DecisionTreeClassifier\n",
    "from sklearn import metrics "
   ]
  },
  {
   "cell_type": "markdown",
   "metadata": {},
   "source": [
    "### Plotting Utility Funtions\n",
    "I employ helper functions for plotting graphs from [interactive-data-science-tutorial](https://www.kaggle.com/helgejo/an-interactive-data-science-tutorial)"
   ]
  },
  {
   "cell_type": "code",
   "execution_count": 2,
   "metadata": {},
   "outputs": [],
   "source": [
    "def plot_correlation_map( df ):\n",
    "    corr = df.corr()\n",
    "    _ , ax = plt.subplots( figsize =( 12 , 10 ) )\n",
    "    cmap = sns.diverging_palette( 220 , 10 , as_cmap = True )\n",
    "    _ = sns.heatmap(\n",
    "        corr, \n",
    "        cmap = cmap,\n",
    "        square=True, \n",
    "        cbar_kws={ 'shrink' : .9 }, \n",
    "        ax=ax, \n",
    "        annot = True, \n",
    "        annot_kws = { 'fontsize' : 12 }\n",
    "    )\n",
    "    \n",
    "# Credit: https://github.com/rahulravindran0108/Titanic-Survival-Exploraton/blob/master/titanic_visualizations.py\n",
    "def filter_data(data, condition):\n",
    "    \"\"\"\n",
    "    Remove elements that do not match the condition provided.\n",
    "    Takes a data list as input and returns a filtered list.\n",
    "    Conditions should be a list of strings of the following format:\n",
    "      '<field> <op> <value>'\n",
    "    where the following operations are valid: >, <, >=, <=, ==, !=\n",
    "    \n",
    "    Example: [\"Sex == 'male'\", 'Age < 18']\n",
    "    \"\"\"\n",
    "\n",
    "    field, op, value = condition.split(\" \")\n",
    "    \n",
    "    # convert value into number or strip excess quotes if string\n",
    "    try:\n",
    "        value = float(value)\n",
    "    except:\n",
    "        value = value.strip(\"\\'\\\"\")\n",
    "    \n",
    "    # get booleans for filtering\n",
    "    if op == \">\":\n",
    "        matches = data[field] > value\n",
    "    elif op == \"<\":\n",
    "        matches = data[field] < value\n",
    "    elif op == \">=\":\n",
    "        matches = data[field] >= value\n",
    "    elif op == \"<=\":\n",
    "        matches = data[field] <= value\n",
    "    elif op == \"==\":\n",
    "        matches = data[field] == value\n",
    "    elif op == \"!=\":\n",
    "        matches = data[field] != value\n",
    "    else: # catch invalid operation codes\n",
    "        raise Exception(\"Invalid comparison operator. Only >, <, >=, <=, ==, != allowed.\")\n",
    "    \n",
    "    # filter data and outcomes\n",
    "    data = data[matches].reset_index(drop = True)\n",
    "    return data\n",
    "    \n",
    "def survival_stats(data, outcomes, key, filters = []): # Credit: https://github.com/rahulravindran0108/Titanic-Survival-Exploraton/blob/master/titanic_visualizations.py\n",
    "    \"\"\"\n",
    "    Print out selected statistics regarding survival, given a feature of interest\"\"\"\n",
    "    \n",
    "    # Check if the key exists\n",
    "    if key not in data.columns.values :\n",
    "        print(\"'{}' is not a feature of the Titanic data. Did you spell something wrong?\".format(key))\n",
    "        return False\n",
    "\n",
    "    # Return the function before visualizing if 'Cabin' or 'Ticket'\n",
    "    # is selected: Because too many unique categories to display\n",
    "    if(key == 'Cabin' or key == 'PassengerId' or key == 'Ticket'):\n",
    "        print(\"'{}' has too many unique categories to display! Try a different feature.\".format(key))\n",
    "        return False\n",
    "\n",
    "    # Merge data and outcomes into single dataframe\n",
    "    all_data = pd.concat([data, outcomes], axis = 1)\n",
    "\n",
    "    # Create plotting figure\n",
    "    plt.figure(figsize=(8,6))\n",
    "    \n",
    "    # Apply filters to data\n",
    "    for condition in filters:\n",
    "        all_data = filter_data(all_data, condition)\n",
    "    all_data = all_data[[key, 'Survived']]\n",
    "\n",
    "    # 'Numerical' features\n",
    "    if(key == 'Age' or key == 'Fare'):\n",
    "       \n",
    "        # Divide the range of data into bins and count survival rates\n",
    "        min_value = np.nanmin(all_data[key]) # get the minimum value\n",
    "        max_value = np.nanmax(all_data[key]) # get the maximum value\n",
    "        value_range = max_value - min_value\n",
    "\n",
    "        # 'Fares' has larger range of values than 'Age' so create more bins\n",
    "        if(key == 'Fare'):\n",
    "            bins = np.arange(0, all_data['Fare'].max() + 20, 20) # Return evenly spaced values within a given interval\n",
    "        if(key == 'Age'):\n",
    "            bins = np.arange(0, all_data['Age'].max() + 10, 10) # Return evenly spaced values within a given interval\n",
    "        \n",
    "        # Overlay each bin's survival rates\n",
    "        nonsurv_vals = all_data[all_data['Survived'] == 0][key].reset_index(drop = True) # extract the 'key' column of NotSurvived and reset the order of index\n",
    "        surv_vals = all_data[all_data['Survived'] == 1][key].reset_index(drop = True) # extract the 'key' column of Survived and reset the order of index\n",
    "        \n",
    "        # Plotting histogram - graph for distribution of continous/numerical data\n",
    "        plt.hist(nonsurv_vals, bins = bins, alpha = 0.6, range=(bins.min(),bins.max()),\n",
    "                 color = 'red', label = 'Did not survive')\n",
    "        plt.hist(surv_vals, bins = bins, alpha = 0.6, range=(bins.min(),bins.max()),\n",
    "                 color = 'green', label = 'Survived')\n",
    "    \n",
    "        \n",
    "        # Add legend to plot\n",
    "        plt.xlim(0, bins.max())\n",
    "        plt.legend(framealpha = 0.8)\n",
    "    \n",
    "    # 'Categorical' features\n",
    "    else:\n",
    "       \n",
    "        # Set the various categories\n",
    "        if(key == 'Pclass'):\n",
    "            values = np.arange(1,4)\n",
    "        if(key == 'Parch' or key == 'SibSp'):\n",
    "            values = np.arange(0, np.nanmax(data[key]) + 1)\n",
    "        if(key == 'Embarked'):\n",
    "            values = ['C', 'Q', 'S']\n",
    "        if(key == 'Sex'):\n",
    "            values = ['male', 'female']\n",
    "\n",
    "        # Create DataFrame containing categories and count of each\n",
    "        frame = pd.DataFrame(index = np.arange(len(values)), columns=(key,'Survived','NSurvived'))\n",
    "        for i, value in enumerate(values):\n",
    "            frame.loc[i] = [value, \\\n",
    "                   len(all_data[(all_data['Survived'] == 1) & (all_data[key] == value)]), \\\n",
    "                   len(all_data[(all_data['Survived'] == 0) & (all_data[key] == value)])]\n",
    "\n",
    "        # Set the width of each bar\n",
    "        bar_width = 0.4\n",
    "\n",
    "        # Display each category's survival rates\n",
    "        for i in np.arange(len(frame)):\n",
    "            nonsurv_bar = plt.bar(i-bar_width, frame.loc[i]['NSurvived'], width = bar_width, color = 'r')\n",
    "            surv_bar = plt.bar(i, frame.loc[i]['Survived'], width = bar_width, color = 'g')\n",
    "\n",
    "            plt.xticks(np.arange(len(frame)), values)\n",
    "            plt.legend((nonsurv_bar[0], surv_bar[0]),('Did not survive', 'Survived'), framealpha = 0.8)\n",
    "\n",
    "    # Common attributes for plot formatting\n",
    "    plt.xlabel(key)\n",
    "    plt.ylabel('Number of Passengers')\n",
    "    plt.title('Passenger Survival Statistics With \\'%s\\' Feature'%(key))\n",
    "    plt.show()\n",
    "\n",
    "    # Report number of passengers with missing values\n",
    "    if sum(pd.isnull(all_data[key])):\n",
    "        nan_outcomes = all_data[pd.isnull(all_data[key])]['Survived']\n",
    "        print(\"Passengers with missing '{}' values: {} ({} survived, {} did not survive)\".format( \\\n",
    "              key, len(nan_outcomes), sum(nan_outcomes == 1), sum(nan_outcomes == 0)))\n"
   ]
  },
  {
   "cell_type": "markdown",
   "metadata": {},
   "source": [
    "### Loading Data"
   ]
  },
  {
   "cell_type": "code",
   "execution_count": 3,
   "metadata": {
    "scrolled": true
   },
   "outputs": [
    {
     "data": {
      "text/html": [
       "<div>\n",
       "<style scoped>\n",
       "    .dataframe tbody tr th:only-of-type {\n",
       "        vertical-align: middle;\n",
       "    }\n",
       "\n",
       "    .dataframe tbody tr th {\n",
       "        vertical-align: top;\n",
       "    }\n",
       "\n",
       "    .dataframe thead th {\n",
       "        text-align: right;\n",
       "    }\n",
       "</style>\n",
       "<table border=\"1\" class=\"dataframe\">\n",
       "  <thead>\n",
       "    <tr style=\"text-align: right;\">\n",
       "      <th></th>\n",
       "      <th>PassengerId</th>\n",
       "      <th>Survived</th>\n",
       "      <th>Pclass</th>\n",
       "      <th>Name</th>\n",
       "      <th>Sex</th>\n",
       "      <th>Age</th>\n",
       "      <th>SibSp</th>\n",
       "      <th>Parch</th>\n",
       "      <th>Ticket</th>\n",
       "      <th>Fare</th>\n",
       "      <th>Cabin</th>\n",
       "      <th>Embarked</th>\n",
       "    </tr>\n",
       "  </thead>\n",
       "  <tbody>\n",
       "    <tr>\n",
       "      <th>0</th>\n",
       "      <td>1</td>\n",
       "      <td>0</td>\n",
       "      <td>3</td>\n",
       "      <td>Braund, Mr. Owen Harris</td>\n",
       "      <td>male</td>\n",
       "      <td>22.0</td>\n",
       "      <td>1</td>\n",
       "      <td>0</td>\n",
       "      <td>A/5 21171</td>\n",
       "      <td>7.2500</td>\n",
       "      <td>NaN</td>\n",
       "      <td>S</td>\n",
       "    </tr>\n",
       "    <tr>\n",
       "      <th>1</th>\n",
       "      <td>2</td>\n",
       "      <td>1</td>\n",
       "      <td>1</td>\n",
       "      <td>Cumings, Mrs. John Bradley (Florence Briggs Th...</td>\n",
       "      <td>female</td>\n",
       "      <td>38.0</td>\n",
       "      <td>1</td>\n",
       "      <td>0</td>\n",
       "      <td>PC 17599</td>\n",
       "      <td>71.2833</td>\n",
       "      <td>C85</td>\n",
       "      <td>C</td>\n",
       "    </tr>\n",
       "    <tr>\n",
       "      <th>2</th>\n",
       "      <td>3</td>\n",
       "      <td>1</td>\n",
       "      <td>3</td>\n",
       "      <td>Heikkinen, Miss. Laina</td>\n",
       "      <td>female</td>\n",
       "      <td>26.0</td>\n",
       "      <td>0</td>\n",
       "      <td>0</td>\n",
       "      <td>STON/O2. 3101282</td>\n",
       "      <td>7.9250</td>\n",
       "      <td>NaN</td>\n",
       "      <td>S</td>\n",
       "    </tr>\n",
       "    <tr>\n",
       "      <th>3</th>\n",
       "      <td>4</td>\n",
       "      <td>1</td>\n",
       "      <td>1</td>\n",
       "      <td>Futrelle, Mrs. Jacques Heath (Lily May Peel)</td>\n",
       "      <td>female</td>\n",
       "      <td>35.0</td>\n",
       "      <td>1</td>\n",
       "      <td>0</td>\n",
       "      <td>113803</td>\n",
       "      <td>53.1000</td>\n",
       "      <td>C123</td>\n",
       "      <td>S</td>\n",
       "    </tr>\n",
       "    <tr>\n",
       "      <th>4</th>\n",
       "      <td>5</td>\n",
       "      <td>0</td>\n",
       "      <td>3</td>\n",
       "      <td>Allen, Mr. William Henry</td>\n",
       "      <td>male</td>\n",
       "      <td>35.0</td>\n",
       "      <td>0</td>\n",
       "      <td>0</td>\n",
       "      <td>373450</td>\n",
       "      <td>8.0500</td>\n",
       "      <td>NaN</td>\n",
       "      <td>S</td>\n",
       "    </tr>\n",
       "  </tbody>\n",
       "</table>\n",
       "</div>"
      ],
      "text/plain": [
       "   PassengerId  Survived  Pclass  \\\n",
       "0            1         0       3   \n",
       "1            2         1       1   \n",
       "2            3         1       3   \n",
       "3            4         1       1   \n",
       "4            5         0       3   \n",
       "\n",
       "                                                Name     Sex   Age  SibSp  \\\n",
       "0                            Braund, Mr. Owen Harris    male  22.0      1   \n",
       "1  Cumings, Mrs. John Bradley (Florence Briggs Th...  female  38.0      1   \n",
       "2                             Heikkinen, Miss. Laina  female  26.0      0   \n",
       "3       Futrelle, Mrs. Jacques Heath (Lily May Peel)  female  35.0      1   \n",
       "4                           Allen, Mr. William Henry    male  35.0      0   \n",
       "\n",
       "   Parch            Ticket     Fare Cabin Embarked  \n",
       "0      0         A/5 21171   7.2500   NaN        S  \n",
       "1      0          PC 17599  71.2833   C85        C  \n",
       "2      0  STON/O2. 3101282   7.9250   NaN        S  \n",
       "3      0            113803  53.1000  C123        S  \n",
       "4      0            373450   8.0500   NaN        S  "
      ]
     },
     "execution_count": 3,
     "metadata": {},
     "output_type": "execute_result"
    }
   ],
   "source": [
    "data = pd.read_csv(\"titanic-data.csv\",header=0)\n",
    "# header 0 means the 0th row is our coloumn header in data\n",
    "\n",
    "data.head(5)"
   ]
  },
  {
   "cell_type": "markdown",
   "metadata": {},
   "source": [
    "### Cleaning up Data\n",
    "\n",
    "Then, I remove **Pclass**, **Age** and **Sex**. as the rule stated."
   ]
  },
  {
   "cell_type": "code",
   "execution_count": 4,
   "metadata": {},
   "outputs": [
    {
     "data": {
      "text/html": [
       "<div>\n",
       "<style scoped>\n",
       "    .dataframe tbody tr th:only-of-type {\n",
       "        vertical-align: middle;\n",
       "    }\n",
       "\n",
       "    .dataframe tbody tr th {\n",
       "        vertical-align: top;\n",
       "    }\n",
       "\n",
       "    .dataframe thead th {\n",
       "        text-align: right;\n",
       "    }\n",
       "</style>\n",
       "<table border=\"1\" class=\"dataframe\">\n",
       "  <thead>\n",
       "    <tr style=\"text-align: right;\">\n",
       "      <th></th>\n",
       "      <th>Survived</th>\n",
       "      <th>Name</th>\n",
       "      <th>SibSp</th>\n",
       "      <th>Parch</th>\n",
       "      <th>Ticket</th>\n",
       "      <th>Fare</th>\n",
       "      <th>Cabin</th>\n",
       "      <th>Embarked</th>\n",
       "    </tr>\n",
       "  </thead>\n",
       "  <tbody>\n",
       "    <tr>\n",
       "      <th>0</th>\n",
       "      <td>0</td>\n",
       "      <td>Braund, Mr. Owen Harris</td>\n",
       "      <td>1</td>\n",
       "      <td>0</td>\n",
       "      <td>A/5 21171</td>\n",
       "      <td>7.2500</td>\n",
       "      <td>NaN</td>\n",
       "      <td>S</td>\n",
       "    </tr>\n",
       "    <tr>\n",
       "      <th>1</th>\n",
       "      <td>1</td>\n",
       "      <td>Cumings, Mrs. John Bradley (Florence Briggs Th...</td>\n",
       "      <td>1</td>\n",
       "      <td>0</td>\n",
       "      <td>PC 17599</td>\n",
       "      <td>71.2833</td>\n",
       "      <td>C85</td>\n",
       "      <td>C</td>\n",
       "    </tr>\n",
       "    <tr>\n",
       "      <th>2</th>\n",
       "      <td>1</td>\n",
       "      <td>Heikkinen, Miss. Laina</td>\n",
       "      <td>0</td>\n",
       "      <td>0</td>\n",
       "      <td>STON/O2. 3101282</td>\n",
       "      <td>7.9250</td>\n",
       "      <td>NaN</td>\n",
       "      <td>S</td>\n",
       "    </tr>\n",
       "    <tr>\n",
       "      <th>3</th>\n",
       "      <td>1</td>\n",
       "      <td>Futrelle, Mrs. Jacques Heath (Lily May Peel)</td>\n",
       "      <td>1</td>\n",
       "      <td>0</td>\n",
       "      <td>113803</td>\n",
       "      <td>53.1000</td>\n",
       "      <td>C123</td>\n",
       "      <td>S</td>\n",
       "    </tr>\n",
       "    <tr>\n",
       "      <th>4</th>\n",
       "      <td>0</td>\n",
       "      <td>Allen, Mr. William Henry</td>\n",
       "      <td>0</td>\n",
       "      <td>0</td>\n",
       "      <td>373450</td>\n",
       "      <td>8.0500</td>\n",
       "      <td>NaN</td>\n",
       "      <td>S</td>\n",
       "    </tr>\n",
       "  </tbody>\n",
       "</table>\n",
       "</div>"
      ],
      "text/plain": [
       "   Survived                                               Name  SibSp  Parch  \\\n",
       "0         0                            Braund, Mr. Owen Harris      1      0   \n",
       "1         1  Cumings, Mrs. John Bradley (Florence Briggs Th...      1      0   \n",
       "2         1                             Heikkinen, Miss. Laina      0      0   \n",
       "3         1       Futrelle, Mrs. Jacques Heath (Lily May Peel)      1      0   \n",
       "4         0                           Allen, Mr. William Henry      0      0   \n",
       "\n",
       "             Ticket     Fare Cabin Embarked  \n",
       "0         A/5 21171   7.2500   NaN        S  \n",
       "1          PC 17599  71.2833   C85        C  \n",
       "2  STON/O2. 3101282   7.9250   NaN        S  \n",
       "3            113803  53.1000  C123        S  \n",
       "4            373450   8.0500   NaN        S  "
      ]
     },
     "execution_count": 4,
     "metadata": {},
     "output_type": "execute_result"
    }
   ],
   "source": [
    "data.drop(\"Pclass\", axis=1, inplace=True)\n",
    "data.drop(\"Age\", axis=1, inplace=True)\n",
    "data.drop(\"Sex\", axis=1, inplace=True)\n",
    "data.drop(\"PassengerId\", axis=1, inplace=True)\n",
    "\n",
    "data.head()"
   ]
  },
  {
   "cell_type": "markdown",
   "metadata": {},
   "source": [
    "I remove the `Survived` column from the dataset, and save it under `outcomes`. "
   ]
  },
  {
   "cell_type": "code",
   "execution_count": 5,
   "metadata": {},
   "outputs": [],
   "source": [
    "outcomes = data['Survived']\n",
    "data_without_label = data.drop(\"Survived\", axis=1)"
   ]
  },
  {
   "cell_type": "markdown",
   "metadata": {},
   "source": [
    "### Exploring Data"
   ]
  },
  {
   "cell_type": "markdown",
   "metadata": {},
   "source": [
    "Variable Description:\n",
    "\n",
    "\n",
    " - **Name**: Passenger's name\n",
    " - **SibSp**: Number of siblings/spouses aboard\n",
    " - **Parch**: Number of parents/children aboard\n",
    " - **Ticket**: Ticket number\n",
    " - **Fare**: Fare\n",
    " - **Cabin**: Cabin\n",
    " - **Embarked**: Port of embarkation\n",
    "     - C = Cherbourg\n",
    "     - Q = Queenstown\n",
    "     - S = Southampton"
   ]
  },
  {
   "cell_type": "code",
   "execution_count": 6,
   "metadata": {},
   "outputs": [
    {
     "name": "stdout",
     "output_type": "stream",
     "text": [
      "<class 'pandas.core.frame.DataFrame'>\n",
      "RangeIndex: 891 entries, 0 to 890\n",
      "Data columns (total 7 columns):\n",
      "Name        891 non-null object\n",
      "SibSp       891 non-null int64\n",
      "Parch       891 non-null int64\n",
      "Ticket      891 non-null object\n",
      "Fare        891 non-null float64\n",
      "Cabin       204 non-null object\n",
      "Embarked    889 non-null object\n",
      "dtypes: float64(1), int64(2), object(4)\n",
      "memory usage: 48.9+ KB\n"
     ]
    }
   ],
   "source": [
    "data_without_label.info() # Show columns info of data"
   ]
  },
  {
   "cell_type": "markdown",
   "metadata": {},
   "source": [
    "It can be seen from the data that there are 2 types of variables:\n",
    " - **Numeric variables**: one with values of integers or real numbers\n",
    "     - Fare\n",
    " - **Categorical variables**: a variable that can take on one of a limited, and usually fixed, number of possible values, such as blood type.\n",
    "     - SibSp (Ordinal)\n",
    "     - Parch (Ordinal)\n",
    "     - Embarked\n",
    " - **Categorical with too many unique values**:\n",
    "     - Name\n",
    "     - Ticket\n",
    "     - Cabin\n",
    "\n",
    "Moreover, **Cabin** only has 204 values, **Embarked** only has 889 values, the remaining are nulls. We need to perform more manipulation later on to handle this."
   ]
  },
  {
   "cell_type": "code",
   "execution_count": 7,
   "metadata": {},
   "outputs": [
    {
     "data": {
      "text/html": [
       "<div>\n",
       "<style scoped>\n",
       "    .dataframe tbody tr th:only-of-type {\n",
       "        vertical-align: middle;\n",
       "    }\n",
       "\n",
       "    .dataframe tbody tr th {\n",
       "        vertical-align: top;\n",
       "    }\n",
       "\n",
       "    .dataframe thead th {\n",
       "        text-align: right;\n",
       "    }\n",
       "</style>\n",
       "<table border=\"1\" class=\"dataframe\">\n",
       "  <thead>\n",
       "    <tr style=\"text-align: right;\">\n",
       "      <th></th>\n",
       "      <th>SibSp</th>\n",
       "      <th>Parch</th>\n",
       "      <th>Fare</th>\n",
       "    </tr>\n",
       "  </thead>\n",
       "  <tbody>\n",
       "    <tr>\n",
       "      <th>count</th>\n",
       "      <td>891.000000</td>\n",
       "      <td>891.000000</td>\n",
       "      <td>891.000000</td>\n",
       "    </tr>\n",
       "    <tr>\n",
       "      <th>mean</th>\n",
       "      <td>0.523008</td>\n",
       "      <td>0.381594</td>\n",
       "      <td>32.204208</td>\n",
       "    </tr>\n",
       "    <tr>\n",
       "      <th>std</th>\n",
       "      <td>1.102743</td>\n",
       "      <td>0.806057</td>\n",
       "      <td>49.693429</td>\n",
       "    </tr>\n",
       "    <tr>\n",
       "      <th>min</th>\n",
       "      <td>0.000000</td>\n",
       "      <td>0.000000</td>\n",
       "      <td>0.000000</td>\n",
       "    </tr>\n",
       "    <tr>\n",
       "      <th>25%</th>\n",
       "      <td>0.000000</td>\n",
       "      <td>0.000000</td>\n",
       "      <td>7.910400</td>\n",
       "    </tr>\n",
       "    <tr>\n",
       "      <th>50%</th>\n",
       "      <td>0.000000</td>\n",
       "      <td>0.000000</td>\n",
       "      <td>14.454200</td>\n",
       "    </tr>\n",
       "    <tr>\n",
       "      <th>75%</th>\n",
       "      <td>1.000000</td>\n",
       "      <td>0.000000</td>\n",
       "      <td>31.000000</td>\n",
       "    </tr>\n",
       "    <tr>\n",
       "      <th>max</th>\n",
       "      <td>8.000000</td>\n",
       "      <td>6.000000</td>\n",
       "      <td>512.329200</td>\n",
       "    </tr>\n",
       "  </tbody>\n",
       "</table>\n",
       "</div>"
      ],
      "text/plain": [
       "            SibSp       Parch        Fare\n",
       "count  891.000000  891.000000  891.000000\n",
       "mean     0.523008    0.381594   32.204208\n",
       "std      1.102743    0.806057   49.693429\n",
       "min      0.000000    0.000000    0.000000\n",
       "25%      0.000000    0.000000    7.910400\n",
       "50%      0.000000    0.000000   14.454200\n",
       "75%      1.000000    0.000000   31.000000\n",
       "max      8.000000    6.000000  512.329200"
      ]
     },
     "execution_count": 7,
     "metadata": {},
     "output_type": "execute_result"
    }
   ],
   "source": [
    "data_without_label.describe() # Below I check statistical information of variables"
   ]
  },
  {
   "cell_type": "markdown",
   "metadata": {},
   "source": [
    "#### Exploring Numeric Variables\n",
    "Let's further explore the relationship between the numeric features and survival of passengers. \n",
    "\n",
    "Plot a correlation heat map to remove multi colinearity. It means that we get rid of columns that are depending on each other so because using the same column twice just makes our model more complex to interpret.\n",
    "\n",
    "**Regarding Correlation coefficient**:\n",
    "In statistics, the correlation coefficient r measures the strength and direction of a linear relationship between two variables on a scatterplot. The value of r is always between +1 and –1. To interpret its value, see which of the following values your correlation r is closest to:\n",
    "- **Exactly –1.0**. A perfect downhill (negative) linear relationship\n",
    "\n",
    "- **–0.70**. A strong downhill (negative) linear relationship\n",
    "\n",
    "- **–0.50**. A moderate downhill (negative) relationship\n",
    "\n",
    "- **–0.30**. A weak downhill (negative) linear relationship\n",
    "\n",
    "- **0.0**. No linear relationship\n",
    "\n",
    "- **+0.30**. A weak uphill (positive) linear relationship\n",
    "\n",
    "- **+0.50**. A moderate uphill (positive) relationship\n",
    "\n",
    "- **+0.70**. A strong uphill (positive) linear relationship\n",
    "\n",
    "- **Exactly +1**. A perfect uphill (positive) linear relationship"
   ]
  },
  {
   "cell_type": "code",
   "execution_count": 8,
   "metadata": {},
   "outputs": [
    {
     "data": {
      "image/png": "[encoded data removed]",
      "text/plain": [
       "<Figure size 864x720 with 2 Axes>"
      ]
     },
     "metadata": {
      "needs_background": "light"
     },
     "output_type": "display_data"
    }
   ],
   "source": [
    "plot_correlation_map (data)"
   ]
  },
  {
   "cell_type": "markdown",
   "metadata": {},
   "source": [
    "It can be shown that **Patch** and **SibSp** moderately depend on each other ( | r |  = 0.41). This makes sense since Parch and SipSp both regard family relationships. \n",
    "\n",
    "Choosing the attributes/features like this is called _pruning_ the features."
   ]
  },
  {
   "cell_type": "code",
   "execution_count": 9,
   "metadata": {},
   "outputs": [
    {
     "data": {
      "image/png": "[encoded data removed]",
      "text/plain": [
       "<Figure size 576x432 with 1 Axes>"
      ]
     },
     "metadata": {
      "needs_background": "light"
     },
     "output_type": "display_data"
    }
   ],
   "source": [
    "# Plot distributions of Fare of passangers who survived or did not survive\n",
    "survival_stats(data_without_label, outcomes, 'Fare')"
   ]
  },
  {
   "cell_type": "markdown",
   "metadata": {},
   "source": [
    "Consider the graph above. Differences between survival for different values is what will be used to separate the target variable - _label (survival in this case)_ in the model. If the pattern has been about the same, then it would not have been a good variable/feature for our predictive model.\n",
    "\n",
    "It is depicted in the graph that **Fare** of **0 to 40** has a higher probability of **Dead**.\n",
    "\n",
    "However, this feature seems not provide strong enough information to separate the label."
   ]
  },
  {
   "cell_type": "markdown",
   "metadata": {},
   "source": [
    "#### Exploring Categorical Variables\n"
   ]
  },
  {
   "cell_type": "code",
   "execution_count": 10,
   "metadata": {
    "scrolled": false
   },
   "outputs": [
    {
     "data": {
      "image/png": "[encoded data removed]",
      "text/plain": [
       "<Figure size 576x432 with 1 Axes>"
      ]
     },
     "metadata": {
      "needs_background": "light"
     },
     "output_type": "display_data"
    }
   ],
   "source": [
    "survival_stats(data_without_label, outcomes, 'SibSp')"
   ]
  },
  {
   "cell_type": "code",
   "execution_count": 11,
   "metadata": {},
   "outputs": [
    {
     "data": {
      "image/png": "[encoded data removed]",
      "text/plain": [
       "<Figure size 576x432 with 1 Axes>"
      ]
     },
     "metadata": {
      "needs_background": "light"
     },
     "output_type": "display_data"
    }
   ],
   "source": [
    "survival_stats(data_without_label, outcomes, 'Parch')"
   ]
  },
  {
   "cell_type": "code",
   "execution_count": 12,
   "metadata": {},
   "outputs": [
    {
     "data": {
      "image/png": "[encoded data removed]",
      "text/plain": [
       "<Figure size 576x432 with 1 Axes>"
      ]
     },
     "metadata": {
      "needs_background": "light"
     },
     "output_type": "display_data"
    },
    {
     "name": "stdout",
     "output_type": "stream",
     "text": [
      "Passengers with missing 'Embarked' values: 2 (2 survived, 0 did not survive)\n"
     ]
    }
   ],
   "source": [
    "survival_stats(data_without_label, outcomes, 'Embarked')"
   ]
  },
  {
   "cell_type": "markdown",
   "metadata": {},
   "source": [
    "It can be shown in the graphs for Categorical features that:\n",
    "- **SibSp**: Passengers having none sibbling or spouse have higher probability of **Dead**\n",
    "- **Parch**: Passengers having none parent or children have higher probability of **Dead**\n",
    "- **Embarked**: Passengers embarked at Southamptom have higher probability of **Dead**\n",
    "\n",
    "However, it is noticable these features do not provide enough useful to distinguish class label.\n",
    "\n",
    "So i pick **Fare** as the decisive attribute and explore further SibSp, Parch and Embarked following Fare condition."
   ]
  },
  {
   "cell_type": "code",
   "execution_count": 13,
   "metadata": {
    "scrolled": false
   },
   "outputs": [
    {
     "data": {
      "image/png": "[encoded data removed]",
      "text/plain": [
       "<Figure size 576x432 with 1 Axes>"
      ]
     },
     "metadata": {
      "needs_background": "light"
     },
     "output_type": "display_data"
    }
   ],
   "source": [
    "survival_stats(data_without_label, outcomes, 'SibSp', [\"Fare > 40\"])"
   ]
  },
  {
   "cell_type": "code",
   "execution_count": 14,
   "metadata": {
    "scrolled": false
   },
   "outputs": [
    {
     "data": {
      "image/png": "[encoded data removed]",
      "text/plain": [
       "<Figure size 576x432 with 1 Axes>"
      ]
     },
     "metadata": {
      "needs_background": "light"
     },
     "output_type": "display_data"
    }
   ],
   "source": [
    "survival_stats(data_without_label, outcomes, 'Parch', [\"Fare > 40\"])"
   ]
  },
  {
   "cell_type": "code",
   "execution_count": 15,
   "metadata": {
    "scrolled": false
   },
   "outputs": [
    {
     "data": {
      "image/png": "[encoded data removed]",
      "text/plain": [
       "<Figure size 576x432 with 1 Axes>"
      ]
     },
     "metadata": {
      "needs_background": "light"
     },
     "output_type": "display_data"
    },
    {
     "name": "stdout",
     "output_type": "stream",
     "text": [
      "Passengers with missing 'Embarked' values: 2 (2 survived, 0 did not survive)\n"
     ]
    }
   ],
   "source": [
    "survival_stats(data_without_label, outcomes, 'Embarked', [\"Fare > 40\"])"
   ]
  },
  {
   "cell_type": "markdown",
   "metadata": {},
   "source": [
    "It can be seen that with **Fare > 40** condition, people having **SibSp > 4** will have higher probability to Die."
   ]
  },
  {
   "cell_type": "markdown",
   "metadata": {},
   "source": [
    "### Self-implemented Decision Tree"
   ]
  },
  {
   "cell_type": "code",
   "execution_count": 16,
   "metadata": {},
   "outputs": [
    {
     "data": {
      "text/plain": [
       "0.6857463524130191"
      ]
     },
     "execution_count": 16,
     "metadata": {},
     "output_type": "execute_result"
    }
   ],
   "source": [
    "def decisionTreeClassifierCS(dataset):\n",
    "    predictions = []\n",
    "    for index, record in dataset.iterrows():\n",
    "        # Survived (1) or died (0)\n",
    "        if (record.Fare < 40):\n",
    "            predictions.append(0)\n",
    "        elif (record.SibSp > 4):\n",
    "            predictions.append(0)\n",
    "        else:\n",
    "            predictions.append(1)\n",
    "    return predictions\n",
    "\n",
    "\n",
    "predictions = decisionTreeClassifierCS(data)\n",
    "\n",
    "metrics.accuracy_score(predictions, outcomes)"
   ]
  },
  {
   "cell_type": "markdown",
   "metadata": {},
   "source": [
    "68.5% - It can be shown that the accuracy is not significantly high"
   ]
  },
  {
   "cell_type": "markdown",
   "metadata": {},
   "source": [
    "### Preparing Data for Predictions"
   ]
  },
  {
   "cell_type": "markdown",
   "metadata": {},
   "source": [
    "#### Transforming categorical variables to numeric variables\n",
    "The variables `Embarked`, `Pclass` and `Sex` are treated as categorical variables. Some of our model algorithms can only handle numeric values and so we need to create a new variable (dummy variable) for every unique value of the categorical variables."
   ]
  },
  {
   "cell_type": "code",
   "execution_count": 17,
   "metadata": {},
   "outputs": [
    {
     "data": {
      "text/html": [
       "<div>\n",
       "<style scoped>\n",
       "    .dataframe tbody tr th:only-of-type {\n",
       "        vertical-align: middle;\n",
       "    }\n",
       "\n",
       "    .dataframe tbody tr th {\n",
       "        vertical-align: top;\n",
       "    }\n",
       "\n",
       "    .dataframe thead th {\n",
       "        text-align: right;\n",
       "    }\n",
       "</style>\n",
       "<table border=\"1\" class=\"dataframe\">\n",
       "  <thead>\n",
       "    <tr style=\"text-align: right;\">\n",
       "      <th></th>\n",
       "      <th>Survived</th>\n",
       "      <th>Name</th>\n",
       "      <th>SibSp</th>\n",
       "      <th>Parch</th>\n",
       "      <th>Ticket</th>\n",
       "      <th>Fare</th>\n",
       "      <th>Cabin</th>\n",
       "      <th>Embarked</th>\n",
       "      <th>Embarked_C</th>\n",
       "      <th>Embarked_Q</th>\n",
       "      <th>Embarked_S</th>\n",
       "    </tr>\n",
       "  </thead>\n",
       "  <tbody>\n",
       "    <tr>\n",
       "      <th>0</th>\n",
       "      <td>0</td>\n",
       "      <td>Braund, Mr. Owen Harris</td>\n",
       "      <td>1</td>\n",
       "      <td>0</td>\n",
       "      <td>A/5 21171</td>\n",
       "      <td>7.2500</td>\n",
       "      <td>NaN</td>\n",
       "      <td>S</td>\n",
       "      <td>0</td>\n",
       "      <td>0</td>\n",
       "      <td>1</td>\n",
       "    </tr>\n",
       "    <tr>\n",
       "      <th>1</th>\n",
       "      <td>1</td>\n",
       "      <td>Cumings, Mrs. John Bradley (Florence Briggs Th...</td>\n",
       "      <td>1</td>\n",
       "      <td>0</td>\n",
       "      <td>PC 17599</td>\n",
       "      <td>71.2833</td>\n",
       "      <td>C85</td>\n",
       "      <td>C</td>\n",
       "      <td>1</td>\n",
       "      <td>0</td>\n",
       "      <td>0</td>\n",
       "    </tr>\n",
       "    <tr>\n",
       "      <th>2</th>\n",
       "      <td>1</td>\n",
       "      <td>Heikkinen, Miss. Laina</td>\n",
       "      <td>0</td>\n",
       "      <td>0</td>\n",
       "      <td>STON/O2. 3101282</td>\n",
       "      <td>7.9250</td>\n",
       "      <td>NaN</td>\n",
       "      <td>S</td>\n",
       "      <td>0</td>\n",
       "      <td>0</td>\n",
       "      <td>1</td>\n",
       "    </tr>\n",
       "    <tr>\n",
       "      <th>3</th>\n",
       "      <td>1</td>\n",
       "      <td>Futrelle, Mrs. Jacques Heath (Lily May Peel)</td>\n",
       "      <td>1</td>\n",
       "      <td>0</td>\n",
       "      <td>113803</td>\n",
       "      <td>53.1000</td>\n",
       "      <td>C123</td>\n",
       "      <td>S</td>\n",
       "      <td>0</td>\n",
       "      <td>0</td>\n",
       "      <td>1</td>\n",
       "    </tr>\n",
       "    <tr>\n",
       "      <th>4</th>\n",
       "      <td>0</td>\n",
       "      <td>Allen, Mr. William Henry</td>\n",
       "      <td>0</td>\n",
       "      <td>0</td>\n",
       "      <td>373450</td>\n",
       "      <td>8.0500</td>\n",
       "      <td>NaN</td>\n",
       "      <td>S</td>\n",
       "      <td>0</td>\n",
       "      <td>0</td>\n",
       "      <td>1</td>\n",
       "    </tr>\n",
       "  </tbody>\n",
       "</table>\n",
       "</div>"
      ],
      "text/plain": [
       "   Survived                                               Name  SibSp  Parch  \\\n",
       "0         0                            Braund, Mr. Owen Harris      1      0   \n",
       "1         1  Cumings, Mrs. John Bradley (Florence Briggs Th...      1      0   \n",
       "2         1                             Heikkinen, Miss. Laina      0      0   \n",
       "3         1       Futrelle, Mrs. Jacques Heath (Lily May Peel)      1      0   \n",
       "4         0                           Allen, Mr. William Henry      0      0   \n",
       "\n",
       "             Ticket     Fare Cabin Embarked  Embarked_C  Embarked_Q  \\\n",
       "0         A/5 21171   7.2500   NaN        S           0           0   \n",
       "1          PC 17599  71.2833   C85        C           1           0   \n",
       "2  STON/O2. 3101282   7.9250   NaN        S           0           0   \n",
       "3            113803  53.1000  C123        S           0           0   \n",
       "4            373450   8.0500   NaN        S           0           0   \n",
       "\n",
       "   Embarked_S  \n",
       "0           1  \n",
       "1           0  \n",
       "2           1  \n",
       "3           1  \n",
       "4           1  "
      ]
     },
     "execution_count": 17,
     "metadata": {},
     "output_type": "execute_result"
    }
   ],
   "source": [
    "# Create a new variable for every unique value of Embarked\n",
    "embarked = pd.get_dummies( data.Embarked , prefix='Embarked' )\n",
    "# print (list(embarked.columns.values))\n",
    "\n",
    "data_with_embarked = pd.concat ([data,embarked], axis = 1) # axis 1 - column\n",
    "data_with_embarked.head()"
   ]
  },
  {
   "cell_type": "code",
   "execution_count": 18,
   "metadata": {},
   "outputs": [
    {
     "name": "stdout",
     "output_type": "stream",
     "text": [
      "(623, 11)\n",
      "(268, 11)\n"
     ]
    },
    {
     "data": {
      "text/html": [
       "<div>\n",
       "<style scoped>\n",
       "    .dataframe tbody tr th:only-of-type {\n",
       "        vertical-align: middle;\n",
       "    }\n",
       "\n",
       "    .dataframe tbody tr th {\n",
       "        vertical-align: top;\n",
       "    }\n",
       "\n",
       "    .dataframe thead th {\n",
       "        text-align: right;\n",
       "    }\n",
       "</style>\n",
       "<table border=\"1\" class=\"dataframe\">\n",
       "  <thead>\n",
       "    <tr style=\"text-align: right;\">\n",
       "      <th></th>\n",
       "      <th>Survived</th>\n",
       "      <th>Name</th>\n",
       "      <th>SibSp</th>\n",
       "      <th>Parch</th>\n",
       "      <th>Ticket</th>\n",
       "      <th>Fare</th>\n",
       "      <th>Cabin</th>\n",
       "      <th>Embarked</th>\n",
       "      <th>Embarked_C</th>\n",
       "      <th>Embarked_Q</th>\n",
       "      <th>Embarked_S</th>\n",
       "    </tr>\n",
       "  </thead>\n",
       "  <tbody>\n",
       "    <tr>\n",
       "      <th>492</th>\n",
       "      <td>0</td>\n",
       "      <td>Molson, Mr. Harry Markland</td>\n",
       "      <td>0</td>\n",
       "      <td>0</td>\n",
       "      <td>113787</td>\n",
       "      <td>30.500</td>\n",
       "      <td>C30</td>\n",
       "      <td>S</td>\n",
       "      <td>0</td>\n",
       "      <td>0</td>\n",
       "      <td>1</td>\n",
       "    </tr>\n",
       "    <tr>\n",
       "      <th>617</th>\n",
       "      <td>0</td>\n",
       "      <td>Lobb, Mrs. William Arthur (Cordelia K Stanlick)</td>\n",
       "      <td>1</td>\n",
       "      <td>0</td>\n",
       "      <td>A/5. 3336</td>\n",
       "      <td>16.100</td>\n",
       "      <td>NaN</td>\n",
       "      <td>S</td>\n",
       "      <td>0</td>\n",
       "      <td>0</td>\n",
       "      <td>1</td>\n",
       "    </tr>\n",
       "    <tr>\n",
       "      <th>712</th>\n",
       "      <td>1</td>\n",
       "      <td>Taylor, Mr. Elmer Zebley</td>\n",
       "      <td>1</td>\n",
       "      <td>0</td>\n",
       "      <td>19996</td>\n",
       "      <td>52.000</td>\n",
       "      <td>C126</td>\n",
       "      <td>S</td>\n",
       "      <td>0</td>\n",
       "      <td>0</td>\n",
       "      <td>1</td>\n",
       "    </tr>\n",
       "    <tr>\n",
       "      <th>661</th>\n",
       "      <td>0</td>\n",
       "      <td>Badt, Mr. Mohamed</td>\n",
       "      <td>0</td>\n",
       "      <td>0</td>\n",
       "      <td>2623</td>\n",
       "      <td>7.225</td>\n",
       "      <td>NaN</td>\n",
       "      <td>C</td>\n",
       "      <td>1</td>\n",
       "      <td>0</td>\n",
       "      <td>0</td>\n",
       "    </tr>\n",
       "    <tr>\n",
       "      <th>750</th>\n",
       "      <td>1</td>\n",
       "      <td>Wells, Miss. Joan</td>\n",
       "      <td>1</td>\n",
       "      <td>1</td>\n",
       "      <td>29103</td>\n",
       "      <td>23.000</td>\n",
       "      <td>NaN</td>\n",
       "      <td>S</td>\n",
       "      <td>0</td>\n",
       "      <td>0</td>\n",
       "      <td>1</td>\n",
       "    </tr>\n",
       "  </tbody>\n",
       "</table>\n",
       "</div>"
      ],
      "text/plain": [
       "     Survived                                             Name  SibSp  Parch  \\\n",
       "492         0                       Molson, Mr. Harry Markland      0      0   \n",
       "617         0  Lobb, Mrs. William Arthur (Cordelia K Stanlick)      1      0   \n",
       "712         1                         Taylor, Mr. Elmer Zebley      1      0   \n",
       "661         0                                Badt, Mr. Mohamed      0      0   \n",
       "750         1                                Wells, Miss. Joan      1      1   \n",
       "\n",
       "        Ticket    Fare Cabin Embarked  Embarked_C  Embarked_Q  Embarked_S  \n",
       "492     113787  30.500   C30        S           0           0           1  \n",
       "617  A/5. 3336  16.100   NaN        S           0           0           1  \n",
       "712      19996  52.000  C126        S           0           0           1  \n",
       "661       2623   7.225   NaN        C           1           0           0  \n",
       "750      29103  23.000   NaN        S           0           0           1  "
      ]
     },
     "execution_count": 18,
     "metadata": {},
     "output_type": "execute_result"
    }
   ],
   "source": [
    "# Now split our data into train and test\n",
    "train, test = train_test_split(data_with_embarked, test_size = 0.3)# in this our main data is splitted into train and test\n",
    "# We can check their dimension\n",
    "print(train.shape)\n",
    "print(test.shape)\n",
    "train.head(5)"
   ]
  },
  {
   "cell_type": "code",
   "execution_count": 19,
   "metadata": {},
   "outputs": [
    {
     "name": "stdout",
     "output_type": "stream",
     "text": [
      "['Fare', 'SibSp', 'Embarked_C', 'Embarked_Q', 'Embarked_S']\n"
     ]
    }
   ],
   "source": [
    "prediction_var = ['Fare','SibSp'] # features\n",
    "prediction_var.extend(list(embarked.columns.values)) # Add Embarked variables\n",
    "print (prediction_var)\n",
    "\n",
    "# Below variables are used for fitting the model implemented by Sklearn\n",
    "train_X = train[prediction_var] # taking the training data input \n",
    "train_y = train.Survived # This is output of our training data\n",
    "\n",
    "# same we have to do for test\n",
    "test_X = test[prediction_var] # taking test data inputs\n",
    "test_y = test.Survived #output value of test data"
   ]
  },
  {
   "cell_type": "markdown",
   "metadata": {},
   "source": [
    "### Decision Tree from Sklearn"
   ]
  },
  {
   "cell_type": "code",
   "execution_count": 20,
   "metadata": {},
   "outputs": [
    {
     "data": {
      "text/plain": [
       "0.6865671641791045"
      ]
     },
     "execution_count": 20,
     "metadata": {},
     "output_type": "execute_result"
    }
   ],
   "source": [
    "# Using model from sklearn library \n",
    "\n",
    "model = DecisionTreeClassifier()\n",
    "# Fit the model:\n",
    "model.fit(train_X, train_y) #Here we fit the model using training set\n",
    "\n",
    "# Test\n",
    "predictions = model.predict(test_X)\n",
    "metrics.accuracy_score(predictions, test_y)"
   ]
  },
  {
   "cell_type": "markdown",
   "metadata": {},
   "source": [
    "### Exploring other features/variables\n",
    "\n",
    "Here i consider the remaining features and explore them based on the suggestion from _interactive-data-science-tutorial_\n",
    "- Name\n",
    "- Cabin\n",
    "- Ticket\n",
    "\n",
    "It can be seen that we cannot explore these variables directly as same as above (too many distinct categories) but need to construct/extract new variables from these variables."
   ]
  },
  {
   "cell_type": "markdown",
   "metadata": {},
   "source": [
    "#### 1. Extract title from passenger name\n",
    "Titles from the name information reflect the social level/status and may predict survival probability"
   ]
  },
  {
   "cell_type": "code",
   "execution_count": 21,
   "metadata": {},
   "outputs": [
    {
     "name": "stdout",
     "output_type": "stream",
     "text": [
      "  Title  Survived\n",
      "0    Mr         0\n",
      "1   Mrs         1\n",
      "2  Miss         1\n",
      "3   Mrs         1\n",
      "4    Mr         0\n"
     ]
    },
    {
     "data": {
      "image/png": "[encoded data removed]",
      "text/plain": [
       "<Figure size 432x288 with 1 Axes>"
      ]
     },
     "metadata": {
      "needs_background": "light"
     },
     "output_type": "display_data"
    }
   ],
   "source": [
    "# Create Title variable\n",
    "title = pd.DataFrame()\n",
    "\n",
    "# Extract title from each name\n",
    "# Series.map: Map values of Series using input correspondence (a dict, Series, or function).\n",
    "# Lambda is one-line function. \n",
    "    # Ex: add = lambda a,b: a+b = function add (a,b): a+b\n",
    "title[ 'Title' ] = data[ 'Name' ].map( lambda name: \n",
    "                                          name.split( ',' )[1].split( '.' )[0].strip() )\n",
    "\n",
    "# A map of more aggregated titles suggested by \"interactive-data-science-tutorial\"\n",
    "title_dictionary = {\n",
    "                    \"Capt\":       \"Officer\",\n",
    "                    \"Col\":        \"Officer\",\n",
    "                    \"Major\":      \"Officer\",\n",
    "                    \"Jonkheer\":   \"Royalty\",\n",
    "                    \"Don\":        \"Royalty\",\n",
    "                    \"Sir\" :       \"Royalty\",\n",
    "                    \"Dr\":         \"Officer\",\n",
    "                    \"Rev\":        \"Officer\",\n",
    "                    \"the Countess\":\"Royalty\",\n",
    "                    \"Dona\":       \"Royalty\",\n",
    "                    \"Mme\":        \"Mrs\",\n",
    "                    \"Mlle\":       \"Miss\",\n",
    "                    \"Ms\":         \"Mrs\",\n",
    "                    \"Mr\" :        \"Mr\",\n",
    "                    \"Mrs\" :       \"Mrs\",\n",
    "                    \"Miss\" :      \"Miss\",\n",
    "                    \"Master\" :    \"Master\",\n",
    "                    \"Lady\" :      \"Royalty\",\n",
    "                    }\n",
    "# We map/convert each title to the corresponding social level based on above dictionary\n",
    "title[ 'Title' ] = title.Title.map( title_dictionary )\n",
    "survived = data ['Survived']\n",
    "title_with_label = pd.concat( [ title, survived ] , axis=1 ) # axis 0: index, axis 1: column\n",
    "\n",
    "print (title_with_label.head())\n",
    "\n",
    "sns.countplot(x=\"Title\", hue=\"Survived\", data=title_with_label)\n",
    "\n",
    "# Create a new variable for every unique value of Title--> Feature vectors for model implemented by sklearn\n",
    "title = pd.get_dummies( title.Title ) \n",
    "# title.head(10)"
   ]
  },
  {
   "cell_type": "markdown",
   "metadata": {},
   "source": [
    "#### 2. Extract Cabin category from Cabin number\n",
    "Information from Cabin consists of a Cabin category (letter) and the number."
   ]
  },
  {
   "cell_type": "code",
   "execution_count": 22,
   "metadata": {},
   "outputs": [
    {
     "name": "stdout",
     "output_type": "stream",
     "text": [
      "  Cabin  Survived\n",
      "0     U         0\n",
      "1     C         1\n",
      "2     U         1\n",
      "3     C         1\n",
      "4     U         0\n"
     ]
    },
    {
     "data": {
      "image/png": "[encoded data removed]",
      "text/plain": [
       "<Figure size 432x288 with 1 Axes>"
      ]
     },
     "metadata": {
      "needs_background": "light"
     },
     "output_type": "display_data"
    }
   ],
   "source": [
    "cabin = pd.DataFrame()\n",
    "\n",
    "# Recall that Cabin has only 204 values, therefore, we need to fill the missing values\n",
    "cabin[ 'Cabin' ] = data.Cabin.fillna( 'U' )\n",
    "\n",
    "# mapping each Cabin value with the cabin letter\n",
    "cabin[ 'Cabin' ] = cabin[ 'Cabin' ].map( lambda c : c[0] )\n",
    "survived = data ['Survived']\n",
    "cabin_with_label = pd.concat( [ cabin, survived ] , axis=1 ) # axis 0: index, axis 1: column\n",
    "\n",
    "print (cabin_with_label.head())\n",
    "\n",
    "sns.countplot(x=\"Cabin\", hue=\"Survived\", data=cabin_with_label)\n",
    "\n",
    "# Create a new variable for every unique value of Cabin --> Feature vectors for model implemented by sklearn\n",
    "cabin = pd.get_dummies( cabin.Cabin, prefix = 'Cabin' ) \n",
    "# cabin.head(10)"
   ]
  },
  {
   "cell_type": "markdown",
   "metadata": {},
   "source": [
    "#### 3. Extract ticket class from ticket number\n",
    "Information from Ticket consists of a prefix and the number, so we extract the prefixes to consider them as categorical values"
   ]
  },
  {
   "cell_type": "code",
   "execution_count": 23,
   "metadata": {
    "scrolled": false
   },
   "outputs": [
    {
     "name": "stdout",
     "output_type": "stream",
     "text": [
      "   Ticket  Survived\n",
      "0      A5         0\n",
      "1      PC         1\n",
      "2  STONO2         1\n",
      "3     XXX         1\n",
      "4     XXX         0\n"
     ]
    },
    {
     "data": {
      "image/png": "[encoded data removed]",
      "text/plain": [
       "<Figure size 360x720 with 1 Axes>"
      ]
     },
     "metadata": {
      "needs_background": "light"
     },
     "output_type": "display_data"
    }
   ],
   "source": [
    "# a function that extracts each prefix of the ticket, returns 'XXX' if no prefix (i.e the ticket is a digit)\n",
    "def cleanTicket( ticket ):\n",
    "    ticket = ticket.replace( '.' , '' ) # remove dots\n",
    "    ticket = ticket.replace( '/' , '' ) # remove slashes\n",
    "    ticket = ticket.split() \n",
    "    ticket = map( lambda t : t.strip() , ticket )\n",
    "    ticket = list(filter( lambda t : not t.isdigit() , ticket ))\n",
    "    if len( ticket ) > 0:\n",
    "        return ticket[0]\n",
    "    else: \n",
    "        return 'XXX'\n",
    "\n",
    "ticket = pd.DataFrame()\n",
    "\n",
    "ticket[ 'Ticket' ] = data[ 'Ticket' ].map( cleanTicket )\n",
    "survived = data ['Survived']\n",
    "ticket_with_label = pd.concat( [ ticket, survived ] , axis=1 ) # axis 0: index, axis 1: column\n",
    "\n",
    "print (ticket_with_label.head())\n",
    "\n",
    "plt.figure(figsize=(5,10))\n",
    "sns.countplot(y=\"Ticket\", hue=\"Survived\", data=ticket_with_label)\n",
    "\n",
    "# Create a new variable for every unique value of Ticket --> Feature vectors for model implemented by sklearn\n",
    "ticket = pd.get_dummies( ticket.Ticket, prefix = 'Ticket' ) \n",
    "# ticket.head(10)"
   ]
  },
  {
   "cell_type": "markdown",
   "metadata": {},
   "source": [
    "### Add `title` variables to our data\n",
    "\n",
    "As we can see from the visualizations that the `ticket` and `cabin` are not informative enough towards the target. Therefore, we only add `title` one-hot encoded features to the baseline data.\n",
    "\n",
    "As a matter of fact, i tried adding `ticket` and `cabin` along with `title` but they make the model worse."
   ]
  },
  {
   "cell_type": "code",
   "execution_count": 24,
   "metadata": {},
   "outputs": [
    {
     "name": "stdout",
     "output_type": "stream",
     "text": [
      "(623, 17)\n",
      "(268, 17)\n"
     ]
    },
    {
     "data": {
      "text/html": [
       "<div>\n",
       "<style scoped>\n",
       "    .dataframe tbody tr th:only-of-type {\n",
       "        vertical-align: middle;\n",
       "    }\n",
       "\n",
       "    .dataframe tbody tr th {\n",
       "        vertical-align: top;\n",
       "    }\n",
       "\n",
       "    .dataframe thead th {\n",
       "        text-align: right;\n",
       "    }\n",
       "</style>\n",
       "<table border=\"1\" class=\"dataframe\">\n",
       "  <thead>\n",
       "    <tr style=\"text-align: right;\">\n",
       "      <th></th>\n",
       "      <th>Survived</th>\n",
       "      <th>Name</th>\n",
       "      <th>SibSp</th>\n",
       "      <th>Parch</th>\n",
       "      <th>Ticket</th>\n",
       "      <th>Fare</th>\n",
       "      <th>Cabin</th>\n",
       "      <th>Embarked</th>\n",
       "      <th>Embarked_C</th>\n",
       "      <th>Embarked_Q</th>\n",
       "      <th>Embarked_S</th>\n",
       "      <th>Master</th>\n",
       "      <th>Miss</th>\n",
       "      <th>Mr</th>\n",
       "      <th>Mrs</th>\n",
       "      <th>Officer</th>\n",
       "      <th>Royalty</th>\n",
       "    </tr>\n",
       "  </thead>\n",
       "  <tbody>\n",
       "    <tr>\n",
       "      <th>745</th>\n",
       "      <td>0</td>\n",
       "      <td>Crosby, Capt. Edward Gifford</td>\n",
       "      <td>1</td>\n",
       "      <td>1</td>\n",
       "      <td>WE/P 5735</td>\n",
       "      <td>71.0000</td>\n",
       "      <td>B22</td>\n",
       "      <td>S</td>\n",
       "      <td>0</td>\n",
       "      <td>0</td>\n",
       "      <td>1</td>\n",
       "      <td>0</td>\n",
       "      <td>0</td>\n",
       "      <td>0</td>\n",
       "      <td>0</td>\n",
       "      <td>1</td>\n",
       "      <td>0</td>\n",
       "    </tr>\n",
       "    <tr>\n",
       "      <th>224</th>\n",
       "      <td>1</td>\n",
       "      <td>Hoyt, Mr. Frederick Maxfield</td>\n",
       "      <td>1</td>\n",
       "      <td>0</td>\n",
       "      <td>19943</td>\n",
       "      <td>90.0000</td>\n",
       "      <td>C93</td>\n",
       "      <td>S</td>\n",
       "      <td>0</td>\n",
       "      <td>0</td>\n",
       "      <td>1</td>\n",
       "      <td>0</td>\n",
       "      <td>0</td>\n",
       "      <td>1</td>\n",
       "      <td>0</td>\n",
       "      <td>0</td>\n",
       "      <td>0</td>\n",
       "    </tr>\n",
       "    <tr>\n",
       "      <th>209</th>\n",
       "      <td>1</td>\n",
       "      <td>Blank, Mr. Henry</td>\n",
       "      <td>0</td>\n",
       "      <td>0</td>\n",
       "      <td>112277</td>\n",
       "      <td>31.0000</td>\n",
       "      <td>A31</td>\n",
       "      <td>C</td>\n",
       "      <td>1</td>\n",
       "      <td>0</td>\n",
       "      <td>0</td>\n",
       "      <td>0</td>\n",
       "      <td>0</td>\n",
       "      <td>1</td>\n",
       "      <td>0</td>\n",
       "      <td>0</td>\n",
       "      <td>0</td>\n",
       "    </tr>\n",
       "    <tr>\n",
       "      <th>396</th>\n",
       "      <td>0</td>\n",
       "      <td>Olsson, Miss. Elina</td>\n",
       "      <td>0</td>\n",
       "      <td>0</td>\n",
       "      <td>350407</td>\n",
       "      <td>7.8542</td>\n",
       "      <td>NaN</td>\n",
       "      <td>S</td>\n",
       "      <td>0</td>\n",
       "      <td>0</td>\n",
       "      <td>1</td>\n",
       "      <td>0</td>\n",
       "      <td>1</td>\n",
       "      <td>0</td>\n",
       "      <td>0</td>\n",
       "      <td>0</td>\n",
       "      <td>0</td>\n",
       "    </tr>\n",
       "    <tr>\n",
       "      <th>137</th>\n",
       "      <td>0</td>\n",
       "      <td>Futrelle, Mr. Jacques Heath</td>\n",
       "      <td>1</td>\n",
       "      <td>0</td>\n",
       "      <td>113803</td>\n",
       "      <td>53.1000</td>\n",
       "      <td>C123</td>\n",
       "      <td>S</td>\n",
       "      <td>0</td>\n",
       "      <td>0</td>\n",
       "      <td>1</td>\n",
       "      <td>0</td>\n",
       "      <td>0</td>\n",
       "      <td>1</td>\n",
       "      <td>0</td>\n",
       "      <td>0</td>\n",
       "      <td>0</td>\n",
       "    </tr>\n",
       "  </tbody>\n",
       "</table>\n",
       "</div>"
      ],
      "text/plain": [
       "     Survived                          Name  SibSp  Parch     Ticket     Fare  \\\n",
       "745         0  Crosby, Capt. Edward Gifford      1      1  WE/P 5735  71.0000   \n",
       "224         1  Hoyt, Mr. Frederick Maxfield      1      0      19943  90.0000   \n",
       "209         1              Blank, Mr. Henry      0      0     112277  31.0000   \n",
       "396         0           Olsson, Miss. Elina      0      0     350407   7.8542   \n",
       "137         0   Futrelle, Mr. Jacques Heath      1      0     113803  53.1000   \n",
       "\n",
       "    Cabin Embarked  Embarked_C  Embarked_Q  Embarked_S  Master  Miss  Mr  Mrs  \\\n",
       "745   B22        S           0           0           1       0     0   0    0   \n",
       "224   C93        S           0           0           1       0     0   1    0   \n",
       "209   A31        C           1           0           0       0     0   1    0   \n",
       "396   NaN        S           0           0           1       0     1   0    0   \n",
       "137  C123        S           0           0           1       0     0   1    0   \n",
       "\n",
       "     Officer  Royalty  \n",
       "745        1        0  \n",
       "224        0        0  \n",
       "209        0        0  \n",
       "396        0        0  \n",
       "137        0        0  "
      ]
     },
     "execution_count": 24,
     "metadata": {},
     "output_type": "execute_result"
    }
   ],
   "source": [
    "# Add Title variable to existing data\n",
    "data_new = pd.concat ([data_with_embarked,title,], axis = 1)\n",
    "data_new.head()\n",
    "\n",
    "# Now split our data into train and test\n",
    "train_new, test_new = train_test_split(data_new, test_size = 0.3)# in this our main data is splitted into train and test\n",
    "# We can check their dimension\n",
    "print(train_new.shape)\n",
    "print(test_new.shape)\n",
    "train_new.head(5)"
   ]
  },
  {
   "cell_type": "code",
   "execution_count": 25,
   "metadata": {},
   "outputs": [
    {
     "name": "stdout",
     "output_type": "stream",
     "text": [
      "Features: ['Fare', 'SibSp', 'Embarked_C', 'Embarked_Q', 'Embarked_S', 'Master', 'Miss', 'Mr', 'Mrs', 'Officer', 'Royalty']\n"
     ]
    }
   ],
   "source": [
    "prediction_var.extend(list(title.columns.values))# features\n",
    "\n",
    "print ('Features:',prediction_var)"
   ]
  },
  {
   "cell_type": "code",
   "execution_count": 26,
   "metadata": {
    "scrolled": true
   },
   "outputs": [
    {
     "data": {
      "text/plain": [
       "0.7649253731343284"
      ]
     },
     "execution_count": 26,
     "metadata": {},
     "output_type": "execute_result"
    }
   ],
   "source": [
    "# Below variables are used for fitting the model implemented by Sklearn\n",
    "train_X_new = train_new[prediction_var] # taking the training data input \n",
    "train_y_new = train_new.Survived # This is output of our training data\n",
    "\n",
    "# same we have to do for test\n",
    "test_X_new = test_new[prediction_var] # taking test data inputs\n",
    "test_y_new = test_new.Survived #output value of test data\n",
    "\n",
    "\n",
    "# Using model from sklearn library \n",
    "model = DecisionTreeClassifier()\n",
    "# Fit the model:\n",
    "model.fit(train_X_new, train_y_new) #Here we fit the model using training set\n",
    "\n",
    "# Test\n",
    "predictions = model.predict(test_X_new)\n",
    "metrics.accuracy_score(predictions, test_y_new)"
   ]
  }
 ],
 "metadata": {
  "kernelspec": {
   "display_name": "Python 3",
   "language": "python",
   "name": "python3"
  },
  "language_info": {
   "codemirror_mode": {
    "name": "ipython",
    "version": 3
   },
   "file_extension": ".py",
   "mimetype": "text/x-python",
   "name": "python",
   "nbconvert_exporter": "python",
   "pygments_lexer": "ipython3",
   "version": "3.7.4"
  }
 },
 "nbformat": 4,
 "nbformat_minor": 2
}
